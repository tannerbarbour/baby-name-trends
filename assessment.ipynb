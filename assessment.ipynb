{
  "nbformat": 4,
  "nbformat_minor": 0,
  "metadata": {
    "colab": {
      "provenance": []
    },
    "kernelspec": {
      "name": "python3",
      "display_name": "Python 3"
    },
    "language_info": {
      "name": "python"
    }
  },
  "cells": [
    {
      "cell_type": "code",
      "source": [
        "#Data From: https://www.ssa.gov/oact/babynames/limits.html\n",
        "\n",
        "# Methodology:\n",
        "# I read in the 2007 and 2020 SSA baby name datasets and ranked all names by birth count within each sex for 2007.\n",
        "# Then, I merged the two datasets and filtered for names that were highly ranked in 2007 but had dropped out of the top 100 by 2020.\n",
        "# I sorted these dropped names by their 2007 rank and selected the top 10 male and top 10 female names that saw significant decline.\n"
      ],
      "metadata": {
        "id": "IIY0M82DwcUd"
      },
      "execution_count": null,
      "outputs": []
    },
    {
      "cell_type": "code",
      "source": [
        "import pandas as pd"
      ],
      "metadata": {
        "id": "jsyzYba8skwy"
      },
      "execution_count": 67,
      "outputs": []
    },
    {
      "cell_type": "code",
      "source": [
        "df_2007 = pd.read_csv(\"yob2007.txt\", names=[\"name\", \"sex\", \"count\"])\n",
        "df_2020 = pd.read_csv(\"yob2020.txt\", names=[\"name\", \"sex\", \"count\"])"
      ],
      "metadata": {
        "id": "evvPO1xMsDG2"
      },
      "execution_count": 68,
      "outputs": []
    },
    {
      "cell_type": "code",
      "source": [
        "df_2007[\"rank_2007\"] = df_2007.groupby(\"sex\")[\"count\"].rank(ascending=False, method=\"first\")\n",
        "df_2020[\"rank_2020\"] = df_2020.groupby(\"sex\")[\"count\"].rank(ascending=False, method=\"first\")"
      ],
      "metadata": {
        "id": "WSKyEHbPsaWk"
      },
      "execution_count": 69,
      "outputs": []
    },
    {
      "cell_type": "code",
      "source": [
        "merged = pd.merge(\n",
        "    df_2007,\n",
        "    df_2020[['name', 'sex', 'rank_2020']],\n",
        "    on=['name','sex'],\n",
        "    how='left'\n",
        ")"
      ],
      "metadata": {
        "id": "Sfl1_mevtKUC"
      },
      "execution_count": 70,
      "outputs": []
    },
    {
      "cell_type": "code",
      "source": [
        "male_names = merged[merged[\"sex\"] == \"M\"]\n",
        "female_names = merged[merged[\"sex\"] == \"F\"]"
      ],
      "metadata": {
        "id": "_DwqhjiMuGcS"
      },
      "execution_count": 71,
      "outputs": []
    },
    {
      "cell_type": "code",
      "source": [
        "male = merged[merged[\"sex\"] == \"M\"]\n",
        "top_male_dropped = male[\n",
        "    (male[\"rank_2020\"].isna()) | (male[\"rank_2020\"] > 100)\n",
        "    ].sort_values(\"rank_2007\").head(10)"
      ],
      "metadata": {
        "id": "x6DYdshbua-N"
      },
      "execution_count": 76,
      "outputs": []
    },
    {
      "cell_type": "code",
      "source": [
        "female = merged[merged[\"sex\"] == \"F\"]\n",
        "top_female_dropped = female[\n",
        "    (female[\"rank_2020\"].isna()) | (female[\"rank_2020\"] > 100)\n",
        "    ].sort_values(\"rank_2007\").head(10)"
      ],
      "metadata": {
        "id": "TXYw_lF5uAGP"
      },
      "execution_count": 77,
      "outputs": []
    },
    {
      "cell_type": "code",
      "source": [
        "print(\"Top 10 male names from 2007 that dropped out of top 100 in 2020:\")\n",
        "print(top_male_dropped[[\"name\", \"rank_2007\", \"rank_2020\"]])"
      ],
      "metadata": {
        "colab": {
          "base_uri": "https://localhost:8080/"
        },
        "id": "vz4bgjoWuCpG",
        "outputId": "1990933c-edb1-468e-be80-ed89b28c1899"
      },
      "execution_count": 74,
      "outputs": [
        {
          "output_type": "stream",
          "name": "stdout",
          "text": [
            "Top 10 male names from 2007 that dropped out of top 100 in 2020:\n",
            "          name  rank_2007  rank_2020\n",
            "20602    Tyler       21.0      130.0\n",
            "20612  Brandon       31.0      165.0\n",
            "20613    Gavin       32.0      142.0\n",
            "20620    Kevin       39.0      157.0\n",
            "20621     Evan       40.0      105.0\n",
            "20623  Zachary       42.0      135.0\n",
            "20626   Justin       45.0      166.0\n",
            "20635    Aidan       54.0      261.0\n",
            "20639    Diego       58.0      126.0\n",
            "20640    Jason       59.0      119.0\n"
          ]
        }
      ]
    },
    {
      "cell_type": "code",
      "source": [
        "print(\"\\nTop 10 female names from 2007 that dropped out of top 100 in 2020:\")\n",
        "print(top_female_dropped[[\"name\", \"rank_2007\", \"rank_2020\"]])"
      ],
      "metadata": {
        "colab": {
          "base_uri": "https://localhost:8080/"
        },
        "id": "iDmL7C07wRDv",
        "outputId": "051b228b-a85c-4863-d565-3cc90e778b54"
      },
      "execution_count": 75,
      "outputs": [
        {
          "output_type": "stream",
          "name": "stdout",
          "text": [
            "\n",
            "Top 10 female names from 2007 that dropped out of top 100 in 2020:\n",
            "       name  rank_2007  rank_2020\n",
            "12   Ashley       13.0      153.0\n",
            "13   Alyssa       14.0      199.0\n",
            "18   Alexis       19.0      309.0\n",
            "21  Brianna       22.0      145.0\n",
            "23   Taylor       24.0      162.0\n",
            "25    Kayla       26.0      216.0\n",
            "27   Lauren       28.0      232.0\n",
            "31  Jasmine       32.0      141.0\n",
            "33    Julia       34.0      108.0\n",
            "34   Kaylee       35.0      117.0\n"
          ]
        }
      ]
    }
  ]
}